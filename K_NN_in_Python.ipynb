{
  "nbformat": 4,
  "nbformat_minor": 0,
  "metadata": {
    "colab": {
      "name": "K-NN in Python.ipynb",
      "provenance": [],
      "collapsed_sections": []
    },
    "kernelspec": {
      "name": "python3",
      "display_name": "Python 3"
    }
  },
  "cells": [
    {
      "cell_type": "markdown",
      "metadata": {
        "id": "Dm7oClSZsOiK",
        "colab_type": "text"
      },
      "source": [
        "<h1> A Simplest implementation on K-NN in Python </h1>"
      ]
    },
    {
      "cell_type": "code",
      "metadata": {
        "id": "2f2L0mUzZNww",
        "colab_type": "code",
        "colab": {}
      },
      "source": [
        "import numpy as np\n",
        "from statistics import mode\n",
        "from sklearn import datasets\n",
        "from sklearn.model_selection import train_test_split"
      ],
      "execution_count": 134,
      "outputs": []
    },
    {
      "cell_type": "code",
      "metadata": {
        "id": "P0wt7kVjZa9i",
        "colab_type": "code",
        "colab": {}
      },
      "source": [
        "#Loading iris data set\n",
        "iris = datasets.load_iris()\n",
        "X = iris.data\n",
        "y = iris.target"
      ],
      "execution_count": 135,
      "outputs": []
    },
    {
      "cell_type": "code",
      "metadata": {
        "id": "08HuYtg7ZiMS",
        "colab_type": "code",
        "colab": {
          "base_uri": "https://localhost:8080/",
          "height": 34
        },
        "outputId": "cea7e0dc-37dc-4fdd-b9c7-2e2e426ec7f3"
      },
      "source": [
        "X.shape, y.shape"
      ],
      "execution_count": 136,
      "outputs": [
        {
          "output_type": "execute_result",
          "data": {
            "text/plain": [
              "((150, 4), (150,))"
            ]
          },
          "metadata": {
            "tags": []
          },
          "execution_count": 136
        }
      ]
    },
    {
      "cell_type": "code",
      "metadata": {
        "id": "PF7ie06ZZkI9",
        "colab_type": "code",
        "colab": {}
      },
      "source": [
        "#Columns normalization\n",
        "for i in range(X.shape[1]):\n",
        "  X[:, i] = (X[:, i] - X[:, i].min()) / (X[:, i].max() - X[:, i].min())"
      ],
      "execution_count": 137,
      "outputs": []
    },
    {
      "cell_type": "code",
      "metadata": {
        "id": "Otb-WHYQaFDb",
        "colab_type": "code",
        "colab": {}
      },
      "source": [
        "X_train, X_test, y_train, y_test = train_test_split(X, y, test_size=0.20, random_state=42)"
      ],
      "execution_count": 138,
      "outputs": []
    },
    {
      "cell_type": "code",
      "metadata": {
        "id": "3INNXy69bmOA",
        "colab_type": "code",
        "colab": {
          "base_uri": "https://localhost:8080/",
          "height": 51
        },
        "outputId": "9eb08243-6ba1-4353-b6ae-2e2cf17c0da7"
      },
      "source": [
        "print(X_train.shape, y_train.shape)\n",
        "print(X_test.shape, y_test.shape)"
      ],
      "execution_count": 139,
      "outputs": [
        {
          "output_type": "stream",
          "text": [
            "(120, 4) (120,)\n",
            "(30, 4) (30,)\n"
          ],
          "name": "stdout"
        }
      ]
    },
    {
      "cell_type": "code",
      "metadata": {
        "id": "0-Qrb8DdbuGf",
        "colab_type": "code",
        "colab": {}
      },
      "source": [
        "def cosine_distance(x, y):\n",
        "  '''\n",
        "  This function inputs 2 vector and calculates cosine distance.\n",
        "  '''\n",
        "  return np.dot(x, y)/(np.linalg.norm(x) * np.linalg.norm(y))"
      ],
      "execution_count": 140,
      "outputs": []
    },
    {
      "cell_type": "code",
      "metadata": {
        "id": "3GmgvwE4cMC9",
        "colab_type": "code",
        "colab": {}
      },
      "source": [
        "def get_neighbours(train, query_point, k):\n",
        "  '''\n",
        "  This function finds the NN based on the cosine distance, it return top k NNs\n",
        "  '''\n",
        "  distance = [ (row, cosine_distance(train[row], query_point)) for row in range(train.shape[0])]\n",
        "  distance.sort(key = lambda x : x[1], reverse=True)\n",
        "  return distance[0:k]"
      ],
      "execution_count": 141,
      "outputs": []
    },
    {
      "cell_type": "code",
      "metadata": {
        "id": "8E_EXqLvi5lA",
        "colab_type": "code",
        "colab": {}
      },
      "source": [
        "def predict_knn(test, y_train, y_test):\n",
        "  '''\n",
        "  This function makes prediction on test data and returns model accuracy\n",
        "  '''\n",
        "  correct = 0\n",
        "  for i in range(test.shape[0]):\n",
        "    neighbours = get_neighbours(X_train, test[i], 9)\n",
        "    if mode([y_train[i[0]] for i in neighbours]) == y_test[i]:\n",
        "      correct += 1\n",
        "  return correct / test.shape[0]"
      ],
      "execution_count": 142,
      "outputs": []
    },
    {
      "cell_type": "code",
      "metadata": {
        "id": "H6nHe36-j1lM",
        "colab_type": "code",
        "colab": {
          "base_uri": "https://localhost:8080/",
          "height": 34
        },
        "outputId": "43cf6203-2c33-485b-99e0-5bb946187a77"
      },
      "source": [
        "#Simplest implementation of K-NN on iris dataset gave decent accuracy\n",
        "predict_knn(X_test, y_train, y_test)"
      ],
      "execution_count": 143,
      "outputs": [
        {
          "output_type": "execute_result",
          "data": {
            "text/plain": [
              "0.9333333333333333"
            ]
          },
          "metadata": {
            "tags": []
          },
          "execution_count": 143
        }
      ]
    }
  ]
}